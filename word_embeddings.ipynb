{
  "cells": [
    {
      "cell_type": "markdown",
      "metadata": {
        "id": "view-in-github",
        "colab_type": "text"
      },
      "source": [
        "<a href=\"https://colab.research.google.com/github/sckwokyboom/Cybersemiotics/blob/main/word_embeddings.ipynb\" target=\"_parent\"><img src=\"https://colab.research.google.com/assets/colab-badge.svg\" alt=\"Open In Colab\"/></a>"
      ]
    },
    {
      "cell_type": "markdown",
      "metadata": {
        "id": "Y5jT6D1Sh6VN"
      },
      "source": [
        "## Homework: Multilingual Embedding-based Machine Translation (7 points)"
      ]
    },
    {
      "cell_type": "markdown",
      "metadata": {
        "id": "CDBDoIgih6VQ"
      },
      "source": [
        "**In this homework** **<font color='red'>YOU</font>** will make machine translation system without using parallel corpora, alignment, attention, 100500 depth super-cool recurrent neural network and all that kind superstuff.\n",
        "\n",
        "But even without parallel corpora this system can be good enough (hopefully).\n",
        "\n",
        "For our system we choose two kindred Slavic languages: Ukrainian and Russian."
      ]
    },
    {
      "cell_type": "markdown",
      "metadata": {
        "id": "rFbSkmCgh6VQ"
      },
      "source": [
        "### Feel the difference!\n",
        "\n",
        "(_синій кіт_ vs. _синій кит_)"
      ]
    },
    {
      "cell_type": "markdown",
      "metadata": {
        "id": "eXHeLmk9h6VR"
      },
      "source": [
        "![blue_cat_blue_whale.png](https://github.com/yandexdataschool/nlp_course/raw/master/resources/blue_cat_blue_whale.png)"
      ]
    },
    {
      "cell_type": "markdown",
      "metadata": {
        "id": "tIbRR9u1h6VR"
      },
      "source": [
        "### Fragment of the Swadesh list for some slavic languages\n",
        "\n",
        "The Swadesh list is a lexicostatistical stuff. It's named after American linguist Morris Swadesh and contains basic lexis. This list are used to define subgroupings of languages, its relatedness.\n",
        "\n",
        "So we can see some kind of word invariance for different Slavic languages.\n",
        "\n",
        "\n",
        "| Russian         | Belorussian              | Ukrainian               | Polish             | Czech                         | Bulgarian            |\n",
        "|-----------------|--------------------------|-------------------------|--------------------|-------------------------------|-----------------------|\n",
        "| женщина         | жанчына, кабета, баба    | жінка                   | kobieta            | žena                          | жена                  |\n",
        "| мужчина         | мужчына                  | чоловік, мужчина        | mężczyzna          | muž                           | мъж                   |\n",
        "| человек         | чалавек                  | людина, чоловік         | człowiek           | člověk                        | човек                 |\n",
        "| ребёнок, дитя   | дзіця, дзіцёнак, немаўля | дитина, дитя            | dziecko            | dítě                          | дете                  |\n",
        "| жена            | жонка                    | дружина, жінка          | żona               | žena, manželka, choť          | съпруга, жена         |\n",
        "| муж             | муж, гаспадар            | чоловiк, муж            | mąż                | muž, manžel, choť             | съпруг, мъж           |\n",
        "| мать, мама      | маці, матка              | мати, матір, неня, мама | matka              | matka, máma, 'стар.' mateř    | майка                 |\n",
        "| отец, тятя      | бацька, тата             | батько, тато, татусь    | ojciec             | otec                          | баща, татко           |\n",
        "| много           | шмат, багата             | багато                  | wiele              | mnoho, hodně                  | много                 |\n",
        "| несколько       | некалькі, колькі         | декілька, кілька        | kilka              | několik, pár, trocha          | няколко               |\n",
        "| другой, иной    | іншы                     | інший                   | inny               | druhý, jiný                   | друг                  |\n",
        "| зверь, животное | жывёла, звер, істота     | тварина, звір           | zwierzę            | zvíře                         | животно               |\n",
        "| рыба            | рыба                     | риба                    | ryba               | ryba                          | риба                  |\n",
        "| птица           | птушка                   | птах, птиця             | ptak               | pták                          | птица                 |\n",
        "| собака, пёс     | сабака                   | собака, пес             | pies               | pes                           | куче, пес             |\n",
        "| вошь            | вош                      | воша                    | wesz               | veš                           | въшка                 |\n",
        "| змея, гад       | змяя                     | змія, гад               | wąż                | had                           | змия                  |\n",
        "| червь, червяк   | чарвяк                   | хробак, черв'як         | robak              | červ                          | червей                |\n",
        "| дерево          | дрэва                    | дерево                  | drzewo             | strom, dřevo                  | дърво                 |\n",
        "| лес             | лес                      | ліс                     | las                | les                           | гора, лес             |\n",
        "| палка           | кій, палка               | палиця                  | patyk, pręt, pałka | hůl, klacek, prut, kůl, pálka | палка, пръчка, бастун |"
      ]
    },
    {
      "cell_type": "markdown",
      "metadata": {
        "id": "n1AMfAdAh6VS"
      },
      "source": [
        "But the context distribution of these languages demonstrates even more invariance. And we can use this fact for our for our purposes."
      ]
    },
    {
      "cell_type": "markdown",
      "metadata": {
        "id": "fb7fwv8Rh6VS"
      },
      "source": [
        "## Data"
      ]
    },
    {
      "cell_type": "code",
      "execution_count": 1,
      "metadata": {
        "id": "5wSAZJlTh6VS"
      },
      "outputs": [],
      "source": [
        "try:\n",
        "  import gensim\n",
        "except ImportError:\n",
        "  !pip install gensim\n",
        "import numpy as np\n",
        "from gensim.models import KeyedVectors\n",
        "import pandas as pd"
      ]
    },
    {
      "cell_type": "markdown",
      "metadata": {
        "id": "kD4F63FWh6VT"
      },
      "source": [
        "Download embeddings here:\n",
        "* [cc.uk.300.vec.zip](https://yadi.sk/d/9CAeNsJiInoyUA)\n",
        "* [cc.ru.300.vec.zip](https://yadi.sk/d/3yG0-M4M8fypeQ)"
      ]
    },
    {
      "cell_type": "markdown",
      "metadata": {
        "id": "JpSpVJPJh6VU"
      },
      "source": [
        "Load embeddings for ukrainian and russian."
      ]
    },
    {
      "cell_type": "code",
      "source": [
        "!pip3 install wldhx.yadisk-direct"
      ],
      "metadata": {
        "colab": {
          "base_uri": "https://localhost:8080/"
        },
        "id": "H0qzMPhaqfwj",
        "outputId": "2c7b9c92-0438-48d8-f9c4-c4c6e58755a8"
      },
      "execution_count": 2,
      "outputs": [
        {
          "output_type": "stream",
          "name": "stdout",
          "text": [
            "Collecting wldhx.yadisk-direct\n",
            "  Downloading wldhx.yadisk_direct-0.0.6-py3-none-any.whl.metadata (1.3 kB)\n",
            "Requirement already satisfied: requests in /usr/local/lib/python3.11/dist-packages (from wldhx.yadisk-direct) (2.32.3)\n",
            "Requirement already satisfied: charset-normalizer<4,>=2 in /usr/local/lib/python3.11/dist-packages (from requests->wldhx.yadisk-direct) (3.4.2)\n",
            "Requirement already satisfied: idna<4,>=2.5 in /usr/local/lib/python3.11/dist-packages (from requests->wldhx.yadisk-direct) (3.10)\n",
            "Requirement already satisfied: urllib3<3,>=1.21.1 in /usr/local/lib/python3.11/dist-packages (from requests->wldhx.yadisk-direct) (2.5.0)\n",
            "Requirement already satisfied: certifi>=2017.4.17 in /usr/local/lib/python3.11/dist-packages (from requests->wldhx.yadisk-direct) (2025.7.14)\n",
            "Downloading wldhx.yadisk_direct-0.0.6-py3-none-any.whl (4.5 kB)\n",
            "Installing collected packages: wldhx.yadisk-direct\n",
            "Successfully installed wldhx.yadisk-direct-0.0.6\n"
          ]
        }
      ]
    },
    {
      "cell_type": "code",
      "source": [
        "!curl -L $(yadisk-direct https://yadi.sk/d/9CAeNsJiInoyUA) -o cc.uk.300.vec.zip"
      ],
      "metadata": {
        "colab": {
          "base_uri": "https://localhost:8080/"
        },
        "id": "mKC2DDBLpJm9",
        "outputId": "d53707f5-acb7-4483-ace1-e48ad1dea973"
      },
      "execution_count": 3,
      "outputs": [
        {
          "output_type": "stream",
          "name": "stdout",
          "text": [
            "  % Total    % Received % Xferd  Average Speed   Time    Time     Time  Current\n",
            "                                 Dload  Upload   Total   Spent    Left  Speed\n",
            "  0     0    0     0    0     0      0      0 --:--:--  0:00:01 --:--:--     0\n",
            "100  368M  100  368M    0     0  21.9M      0  0:00:16  0:00:16 --:--:-- 26.8M\n"
          ]
        }
      ]
    },
    {
      "cell_type": "code",
      "source": [
        "!curl -L $(yadisk-direct https://yadi.sk/d/3yG0-M4M8fypeQ) -o cc.ru.300.vec.zip"
      ],
      "metadata": {
        "id": "EG5cJ-7Ppnbv",
        "colab": {
          "base_uri": "https://localhost:8080/"
        },
        "outputId": "5174a0d9-bb34-440b-c35d-591e0561b6ee"
      },
      "execution_count": 4,
      "outputs": [
        {
          "output_type": "stream",
          "name": "stdout",
          "text": [
            "  % Total    % Received % Xferd  Average Speed   Time    Time     Time  Current\n",
            "                                 Dload  Upload   Total   Spent    Left  Speed\n",
            "  0     0    0     0    0     0      0      0 --:--:-- --:--:-- --:--:--     0\n",
            "100  378M  100  378M    0     0  16.8M      0  0:00:22  0:00:22 --:--:-- 23.2M\n"
          ]
        }
      ]
    },
    {
      "cell_type": "code",
      "source": [
        "!unzip /content/cc.ru.300.vec.zip -d /content/\n",
        "!unzip /content/cc.uk.300.vec.zip -d /content/"
      ],
      "metadata": {
        "colab": {
          "base_uri": "https://localhost:8080/"
        },
        "id": "dDLEhxebrSb6",
        "outputId": "7f5461f3-bf06-42c4-bf12-aeeec423dba7"
      },
      "execution_count": 5,
      "outputs": [
        {
          "output_type": "stream",
          "name": "stdout",
          "text": [
            "Archive:  /content/cc.ru.300.vec.zip\n",
            "  inflating: /content/cc.ru.300.vec  \n",
            "Archive:  /content/cc.uk.300.vec.zip\n",
            "  inflating: /content/cc.uk.300.vec  \n"
          ]
        }
      ]
    },
    {
      "cell_type": "code",
      "execution_count": 6,
      "metadata": {
        "id": "tNImQqPrh6VU"
      },
      "outputs": [],
      "source": [
        "uk_emb = KeyedVectors.load_word2vec_format(\"cc.uk.300.vec\")"
      ]
    },
    {
      "cell_type": "code",
      "execution_count": 7,
      "metadata": {
        "id": "v_3cWRphh6VU"
      },
      "outputs": [],
      "source": [
        "ru_emb = KeyedVectors.load_word2vec_format(\"cc.ru.300.vec\")"
      ]
    },
    {
      "cell_type": "code",
      "execution_count": 5,
      "metadata": {
        "id": "4dBSuZ0zh6VU",
        "colab": {
          "base_uri": "https://localhost:8080/"
        },
        "outputId": "180d0db2-2d5a-4a81-a450-151d913bff9f"
      },
      "outputs": [
        {
          "output_type": "execute_result",
          "data": {
            "text/plain": [
              "[('август', 1.0000001192092896),\n",
              " ('июль', 0.9383152723312378),\n",
              " ('сентябрь', 0.9240029454231262),\n",
              " ('июнь', 0.9222574830055237),\n",
              " ('октябрь', 0.9095539450645447),\n",
              " ('ноябрь', 0.8930036425590515),\n",
              " ('апрель', 0.8729087114334106),\n",
              " ('декабрь', 0.8652557730674744),\n",
              " ('март', 0.8545795679092407),\n",
              " ('февраль', 0.8401415944099426)]"
            ]
          },
          "metadata": {},
          "execution_count": 5
        }
      ],
      "source": [
        "ru_emb.most_similar([ru_emb[\"август\"]], topn=10)"
      ]
    },
    {
      "cell_type": "code",
      "execution_count": 6,
      "metadata": {
        "id": "LXAUk4vOh6VU",
        "colab": {
          "base_uri": "https://localhost:8080/"
        },
        "outputId": "e45d2869-7135-46dc-8652-37d6506c523a"
      },
      "outputs": [
        {
          "output_type": "execute_result",
          "data": {
            "text/plain": [
              "[('серпень', 0.9999998807907104),\n",
              " ('липень', 0.9096441268920898),\n",
              " ('вересень', 0.9016969203948975),\n",
              " ('червень', 0.8992518782615662),\n",
              " ('жовтень', 0.8810408115386963),\n",
              " ('листопад', 0.8787633180618286),\n",
              " ('квітень', 0.8592804670333862),\n",
              " ('грудень', 0.8586863279342651),\n",
              " ('травень', 0.840811014175415),\n",
              " ('лютий', 0.8256431221961975)]"
            ]
          },
          "metadata": {},
          "execution_count": 6
        }
      ],
      "source": [
        "uk_emb.most_similar([uk_emb[\"серпень\"]])"
      ]
    },
    {
      "cell_type": "code",
      "execution_count": 7,
      "metadata": {
        "id": "vJZcY2HOh6VU",
        "colab": {
          "base_uri": "https://localhost:8080/"
        },
        "outputId": "8bebafa6-4c94-4f13-fed3-a4c25374fa9b"
      },
      "outputs": [
        {
          "output_type": "execute_result",
          "data": {
            "text/plain": [
              "[('Недопустимость', 0.24435284733772278),\n",
              " ('конструктивность', 0.23293082416057587),\n",
              " ('офор', 0.23256804049015045),\n",
              " ('deteydlya', 0.230317160487175),\n",
              " ('пресечении', 0.22632381319999695),\n",
              " ('одностороннего', 0.22608886659145355),\n",
              " ('подход', 0.2230587750673294),\n",
              " ('иболее', 0.22003726661205292),\n",
              " ('2015Александр', 0.21872766315937042),\n",
              " ('конструктивен', 0.21796567738056183)]"
            ]
          },
          "metadata": {},
          "execution_count": 7
        }
      ],
      "source": [
        "ru_emb.most_similar([uk_emb[\"серпень\"]])"
      ]
    },
    {
      "cell_type": "markdown",
      "metadata": {
        "id": "OQ9Sjjldh6VV"
      },
      "source": [
        "Load small dictionaries for correspoinding words pairs as trainset and testset."
      ]
    },
    {
      "cell_type": "code",
      "execution_count": 10,
      "metadata": {
        "id": "bS_jtLF6h6VV"
      },
      "outputs": [],
      "source": [
        "def load_word_pairs(filename):\n",
        "    uk_ru_pairs = []\n",
        "    uk_vectors = []\n",
        "    ru_vectors = []\n",
        "    with open(filename, \"r\") as inpf:\n",
        "        for line in inpf:\n",
        "            uk, ru = line.rstrip().split(\"\\t\")\n",
        "            if uk not in uk_emb or ru not in ru_emb:\n",
        "                continue\n",
        "            uk_ru_pairs.append((uk, ru))\n",
        "            uk_vectors.append(uk_emb[uk])\n",
        "            ru_vectors.append(ru_emb[ru])\n",
        "    return uk_ru_pairs, np.array(uk_vectors), np.array(ru_vectors)"
      ]
    },
    {
      "cell_type": "code",
      "execution_count": 11,
      "metadata": {
        "id": "0R96GxNVh6VV"
      },
      "outputs": [],
      "source": [
        "uk_ru_train, X_train, Y_train = load_word_pairs(\"ukr_rus.train.txt\")"
      ]
    },
    {
      "cell_type": "code",
      "execution_count": 12,
      "metadata": {
        "id": "mfIyjMx2h6VV"
      },
      "outputs": [],
      "source": [
        "uk_ru_test, X_test, Y_test = load_word_pairs(\"ukr_rus.test.txt\")"
      ]
    },
    {
      "cell_type": "markdown",
      "metadata": {
        "id": "Owjx9L8uh6VW"
      },
      "source": [
        "## Embedding space mapping"
      ]
    },
    {
      "cell_type": "markdown",
      "metadata": {
        "id": "7ln_RtTah6VW"
      },
      "source": [
        "Let $x_i \\in \\mathrm{R}^d$ be the distributed representation of word $i$ in the source language, and $y_i \\in \\mathrm{R}^d$ is the vector representation of its translation. Our purpose is to learn such linear transform $W$ that minimizes euclidian distance between $Wx_i$ and $y_i$ for some subset of word embeddings. Thus we can formulate so-called Procrustes problem:\n",
        "\n",
        "$$W^*= \\arg\\min_W \\sum_{i=1}^n||Wx_i - y_i||_2$$\n",
        "or\n",
        "$$W^*= \\arg\\min_W ||WX - Y||_F$$\n",
        "\n",
        "where $||*||_F$ - Frobenius norm.\n",
        "\n",
        "In Greek mythology, Procrustes or \"the stretcher\" was a rogue smith and bandit from Attica who attacked people by stretching them or cutting off their legs, so as to force them to fit the size of an iron bed. We make same bad things with source embedding space. Our Procrustean bed is target embedding space."
      ]
    },
    {
      "cell_type": "markdown",
      "metadata": {
        "id": "OO21Y87nh6VW"
      },
      "source": [
        "![embedding_mapping.png](https://github.com/yandexdataschool/nlp_course/raw/master/resources/embedding_mapping.png)"
      ]
    },
    {
      "cell_type": "markdown",
      "metadata": {
        "id": "Phld8ZVrh6VW"
      },
      "source": [
        "![procrustes.png](https://github.com/yandexdataschool/nlp_course/raw/master/resources/procrustes.png)"
      ]
    },
    {
      "cell_type": "markdown",
      "metadata": {
        "id": "4eRoBATUh6VW"
      },
      "source": [
        "But wait...$W^*= \\arg\\min_W \\sum_{i=1}^n||Wx_i - y_i||_2$ looks like simple multiple linear regression (without intercept fit). So let's code."
      ]
    },
    {
      "cell_type": "code",
      "source": [
        "from sklearn.linear_model import LinearRegression\n",
        "import matplotlib.pyplot as plt\n",
        "\n",
        "# Данные: x - признак, y - целевая переменная\n",
        "x = np.array([[1], [2], [3], [4], [5]])\n",
        "y = np.array([2, 4, 5, 4, 5])\n",
        "\n",
        "# Модель\n",
        "model = LinearRegression()\n",
        "model.fit(x, y)\n",
        "\n",
        "# Предсказание\n",
        "y_pred = model.predict(x)\n",
        "\n",
        "# Коэффициенты\n",
        "print(\"Коэффициент наклона (w):\", model.coef_)\n",
        "print(\"Смещение (b):\", model.intercept_)\n",
        "plt.scatter(x, y, color='blue')\n",
        "plt.plot(x, model.predict(x), color='red')\n",
        "plt.title(\"Linear Regression\")\n",
        "plt.xlabel(\"X\")\n",
        "plt.ylabel(\"y\")\n",
        "plt.show()\n"
      ],
      "metadata": {
        "colab": {
          "base_uri": "https://localhost:8080/",
          "height": 507
        },
        "collapsed": true,
        "id": "gVlhHqNT67Rf",
        "outputId": "81d9540b-eda5-418d-fc54-903d326e63d8"
      },
      "execution_count": 13,
      "outputs": [
        {
          "output_type": "stream",
          "name": "stdout",
          "text": [
            "Коэффициент наклона (w): [0.6]\n",
            "Смещение (b): 2.2\n"
          ]
        },
        {
          "output_type": "display_data",
          "data": {
            "text/plain": [
              "<Figure size 640x480 with 1 Axes>"
            ],
            "image/png": "[encoded data removed]"
          },
          "metadata": {}
        }
      ]
    },
    {
      "cell_type": "code",
      "execution_count": 14,
      "metadata": {
        "id": "UOLIewJZh6VW",
        "colab": {
          "base_uri": "https://localhost:8080/"
        },
        "outputId": "9b0d369d-3dd9-4f75-f9bf-b5261e6796ab"
      },
      "outputs": [
        {
          "output_type": "stream",
          "name": "stdout",
          "text": [
            "Ожидаемый вектор:\n",
            "\n",
            "[('активный', 1.0000001192092896), ('пассивный', 0.7699531316757202), ('Активный', 0.7216740846633911), ('деятельный', 0.7201953530311584), ('энергичный', 0.691686749458313), ('неактивный', 0.6876639127731323), ('подвижный', 0.6705335974693298), ('здоровый', 0.666638195514679), ('малоактивный', 0.6447054743766785), ('агрессивный', 0.6384122371673584)]\n",
            "Предсказанный вектор:\n",
            "\n",
            "[('активный', 0.782060980796814), ('деятельный', 0.6988208889961243), ('энергичный', 0.6481736302375793), ('пассивный', 0.6367382407188416), ('динамичный', 0.6301733255386353), ('спокойный', 0.6236323118209839), ('самостоятельный', 0.6228111386299133), ('прогрессивный', 0.6202723383903503), ('полноценный', 0.6150344610214233), ('обычный', 0.6147060990333557)]\n"
          ]
        }
      ],
      "source": [
        "from sklearn.linear_model import LinearRegression\n",
        "mapping = LinearRegression()\n",
        "mapping.fit(X_train, Y_train)\n",
        "\n",
        "y_pred = mapping.predict(X_test)\n",
        "# print(Y_test[0])\n",
        "# print(y_pred[0])\n",
        "print(\"Ожидаемый вектор:\\n\")\n",
        "print(ru_emb.most_similar([Y_test[1]]))\n",
        "print(\"Предсказанный вектор:\\n\")\n",
        "print(ru_emb.most_similar([y_pred[1]]))"
      ]
    },
    {
      "cell_type": "markdown",
      "metadata": {
        "id": "bZk4fvRph6VW"
      },
      "source": [
        "Let's take a look at neigbours of the vector of word _\"серпень\"_ (_\"август\"_ in Russian) after linear transform."
      ]
    },
    {
      "cell_type": "code",
      "execution_count": 18,
      "metadata": {
        "id": "dmSb10pgh6VX",
        "colab": {
          "base_uri": "https://localhost:8080/"
        },
        "outputId": "508ac601-d369-41dd-e337-5e1b97dc0de5"
      },
      "outputs": [
        {
          "output_type": "execute_result",
          "data": {
            "text/plain": [
              "[('апрель', 0.8541592955589294),\n",
              " ('июнь', 0.8411964178085327),\n",
              " ('март', 0.8397400379180908),\n",
              " ('сентябрь', 0.8359215259552002),\n",
              " ('февраль', 0.8328748941421509),\n",
              " ('октябрь', 0.8311805725097656),\n",
              " ('ноябрь', 0.8278146982192993),\n",
              " ('июль', 0.8236351013183594),\n",
              " ('август', 0.8120613098144531),\n",
              " ('декабрь', 0.8038000464439392)]"
            ]
          },
          "metadata": {},
          "execution_count": 18
        }
      ],
      "source": [
        "august = mapping.predict(uk_emb[\"серпень\"].reshape(1, -1))\n",
        "ru_emb.most_similar(august)"
      ]
    },
    {
      "cell_type": "markdown",
      "metadata": {
        "id": "VBvKg_Xrh6VX"
      },
      "source": [
        "We can see that neighbourhood of this embedding cosists of different months, but right variant is on the ninth place."
      ]
    },
    {
      "cell_type": "markdown",
      "metadata": {
        "id": "yJnI4ODMh6VX"
      },
      "source": [
        "As quality measure we will use precision top-1, top-5 and top-10 (for each transformed Ukrainian embedding we count how many right target pairs are found in top N nearest neighbours in Russian embedding space)."
      ]
    },
    {
      "cell_type": "code",
      "execution_count": 31,
      "metadata": {
        "id": "ODPBjw7lh6VX"
      },
      "outputs": [],
      "source": [
        "def precision(pairs, mapped_vectors, topn=1):\n",
        "    \"\"\"\n",
        "    :args:\n",
        "        pairs = list of right word pairs [(uk_word_0, ru_word_0), ...]\n",
        "        mapped_vectors = list of embeddings after mapping from source embedding space to destination embedding space\n",
        "        topn = the number of nearest neighbours in destination embedding space to choose from\n",
        "    :returns:\n",
        "        precision_val, float number, total number of words for those we can find right translation at top K.\n",
        "    \"\"\"\n",
        "    assert len(pairs) == len(mapped_vectors)\n",
        "    num_matches = 0\n",
        "    for i, (_, ru) in enumerate(pairs):\n",
        "        ru_prediction_vector = mapped_vectors[i]\n",
        "        topn_similar_vectors = ru_emb.most_similar(ru_prediction_vector, topn=topn)\n",
        "        if ru in [x[0] for x in topn_similar_vectors]:\n",
        "            num_matches += 1\n",
        "    precision_val = num_matches / len(pairs)\n",
        "    return precision_val\n"
      ]
    },
    {
      "cell_type": "code",
      "execution_count": 15,
      "metadata": {
        "id": "VtLHRb3th6VX"
      },
      "outputs": [],
      "source": [
        "assert precision([(\"серпень\", \"август\")], august, topn=5) == 0.0\n",
        "assert precision([(\"серпень\", \"август\")], august, topn=9) == 1.0\n",
        "assert precision([(\"серпень\", \"август\")], august, topn=10) == 1.0"
      ]
    },
    {
      "cell_type": "code",
      "execution_count": 16,
      "metadata": {
        "id": "6ZqKn4igh6VX"
      },
      "outputs": [],
      "source": [
        "assert precision(uk_ru_test, X_test) == 0.0\n",
        "assert precision(uk_ru_test, Y_test) == 1.0"
      ]
    },
    {
      "cell_type": "code",
      "execution_count": 17,
      "metadata": {
        "id": "QHb3IU8fh6VY",
        "colab": {
          "base_uri": "https://localhost:8080/",
          "height": 211
        },
        "outputId": "73448fc7-331a-4607-c86b-09026ca4446f"
      },
      "outputs": [
        {
          "output_type": "stream",
          "name": "stdout",
          "text": [
            "0.6356589147286822\n",
            "0.8113695090439277\n"
          ]
        },
        {
          "output_type": "error",
          "ename": "AssertionError",
          "evalue": "",
          "traceback": [
            "\u001b[0;31m---------------------------------------------------------------------------\u001b[0m",
            "\u001b[0;31mAssertionError\u001b[0m                            Traceback (most recent call last)",
            "\u001b[0;32m/tmp/ipython-input-17-2606748629.py\u001b[0m in \u001b[0;36m<cell line: 0>\u001b[0;34m()\u001b[0m\n\u001b[1;32m      5\u001b[0m \u001b[0mprint\u001b[0m\u001b[0;34m(\u001b[0m\u001b[0mprecision_top5\u001b[0m\u001b[0;34m)\u001b[0m\u001b[0;34m\u001b[0m\u001b[0;34m\u001b[0m\u001b[0m\n\u001b[1;32m      6\u001b[0m \u001b[0;32massert\u001b[0m \u001b[0mprecision_top1\u001b[0m \u001b[0;34m>=\u001b[0m \u001b[0;36m0.635\u001b[0m\u001b[0;34m\u001b[0m\u001b[0;34m\u001b[0m\u001b[0m\n\u001b[0;32m----> 7\u001b[0;31m \u001b[0;32massert\u001b[0m \u001b[0mprecision_top5\u001b[0m \u001b[0;34m>=\u001b[0m \u001b[0;36m0.813\u001b[0m\u001b[0;34m\u001b[0m\u001b[0;34m\u001b[0m\u001b[0m\n\u001b[0m",
            "\u001b[0;31mAssertionError\u001b[0m: "
          ]
        }
      ],
      "source": [
        "precision_top1 = precision(uk_ru_test, mapping.predict(X_test), 1)\n",
        "precision_top5 = precision(uk_ru_test, mapping.predict(X_test), 5)\n",
        "\n",
        "print(precision_top1)\n",
        "print(precision_top5)\n",
        "assert precision_top1 >= 0.635\n",
        "assert precision_top5 >= 0.811"
      ]
    },
    {
      "cell_type": "markdown",
      "metadata": {
        "id": "7ahP7wkKh6VY"
      },
      "source": [
        "## Making it better (orthogonal Procrustean problem)"
      ]
    },
    {
      "cell_type": "markdown",
      "metadata": {
        "id": "8tbePFXNh6VY"
      },
      "source": [
        "It can be shown (see original paper) that a self-consistent linear mapping between semantic spaces should be orthogonal.\n",
        "We can restrict transform $W$ to be orthogonal. Then we will solve next problem:\n",
        "\n",
        "$$W^*= \\arg\\min_W ||WX - Y||_F \\text{, where: } W^TW = I$$\n",
        "\n",
        "$$I \\text{- identity matrix}$$\n",
        "\n",
        "Instead of making yet another regression problem we can find optimal orthogonal transformation using singular value decomposition. It turns out that optimal transformation $W^*$ can be expressed via SVD components:\n",
        "$$X^TY=U\\Sigma V^T\\text{, singular value decompostion}$$\n",
        "$$W^*=UV^T$$"
      ]
    },
    {
      "cell_type": "code",
      "execution_count": 23,
      "metadata": {
        "id": "zpVjfzgYh6VY"
      },
      "outputs": [],
      "source": [
        "def learn_transform(X_train, Y_train):\n",
        "    \"\"\"\n",
        "    :returns: W* : float matrix[emb_dim x emb_dim] as defined in formulae above\n",
        "    \"\"\"\n",
        "    M = X_train.T @ Y_train\n",
        "    U, _, Vt = np.linalg.svd(M)\n",
        "    W = U @ Vt\n",
        "    if np.linalg.det(W) < 0:\n",
        "        print(\"det < 0\")\n",
        "        Vt[-1, :] *= -1\n",
        "        W = U @ Vt\n",
        "    return W"
      ]
    },
    {
      "cell_type": "code",
      "execution_count": 24,
      "metadata": {
        "id": "8IqQUWlyh6VY",
        "colab": {
          "base_uri": "https://localhost:8080/"
        },
        "outputId": "9241f03c-7b6b-45b0-b82f-361d79b0f2a5"
      },
      "outputs": [
        {
          "output_type": "stream",
          "name": "stdout",
          "text": [
            "det < 0\n"
          ]
        }
      ],
      "source": [
        "W = learn_transform(X_train, Y_train)"
      ]
    },
    {
      "cell_type": "code",
      "execution_count": 59,
      "metadata": {
        "id": "RHan6qXch6VY",
        "colab": {
          "base_uri": "https://localhost:8080/"
        },
        "outputId": "9cb98756-90bc-4829-a6dd-bd2d01806231"
      },
      "outputs": [
        {
          "output_type": "execute_result",
          "data": {
            "text/plain": [
              "[('апрель', 0.8234914541244507),\n",
              " ('сентябрь', 0.8045720458030701),\n",
              " ('март', 0.8033736348152161),\n",
              " ('июнь', 0.8025783896446228),\n",
              " ('октябрь', 0.800153374671936),\n",
              " ('ноябрь', 0.7940614223480225),\n",
              " ('июль', 0.7917209267616272),\n",
              " ('февраль', 0.7916903495788574),\n",
              " ('август', 0.7884813547134399),\n",
              " ('декабрь', 0.7692821621894836)]"
            ]
          },
          "metadata": {},
          "execution_count": 59
        }
      ],
      "source": [
        "ru_emb.most_similar([np.matmul(uk_emb[\"серпень\"], W)])"
      ]
    },
    {
      "cell_type": "code",
      "execution_count": 33,
      "metadata": {
        "id": "jyKV7rNTh6VY",
        "colab": {
          "base_uri": "https://localhost:8080/"
        },
        "outputId": "cf4eba89-f507-45b9-8aa8-5bbdce29325d"
      },
      "outputs": [
        {
          "output_type": "stream",
          "name": "stdout",
          "text": [
            "0.6511627906976745\n",
            "0.8294573643410853\n"
          ]
        }
      ],
      "source": [
        "# Precisions in multiple linear regression:\n",
        "#   0.6356589147286822\n",
        "#   0.8113695090439277\n",
        "precision_1 = precision(uk_ru_test, np.matmul(X_test, W))\n",
        "print(precision_1)\n",
        "assert precision_1 >= 0.651\n",
        "precision_2 = precision(uk_ru_test, np.matmul(X_test, W), 5)\n",
        "print(precision_2)\n",
        "assert precision_2 >= 0.824"
      ]
    },
    {
      "cell_type": "markdown",
      "metadata": {
        "id": "pMv12l2ih6Vi"
      },
      "source": [
        "## UK-RU Translator"
      ]
    },
    {
      "cell_type": "markdown",
      "metadata": {
        "id": "W_OX9oXGh6Vj"
      },
      "source": [
        "Now we are ready to make simple word-based translator: for each word in source language in shared embedding space we find the nearest in target language.\n"
      ]
    },
    {
      "cell_type": "code",
      "execution_count": 34,
      "metadata": {
        "id": "NqViILp7h6Vj"
      },
      "outputs": [],
      "source": [
        "with open(\"fairy_tale.txt\", \"r\") as inpf:\n",
        "    uk_sentences = [line.rstrip().lower() for line in inpf]"
      ]
    },
    {
      "cell_type": "code",
      "execution_count": 60,
      "metadata": {
        "id": "48Q-yOi7h6Vj",
        "colab": {
          "base_uri": "https://localhost:8080/"
        },
        "outputId": "9d8d90f1-d283-4e10-a820-58bcac1f2dee"
      },
      "outputs": [
        {
          "output_type": "stream",
          "name": "stderr",
          "text": [
            "[nltk_data] Downloading package punkt to /root/nltk_data...\n",
            "[nltk_data]   Package punkt is already up-to-date!\n",
            "[nltk_data] Downloading package punkt_tab to /root/nltk_data...\n",
            "[nltk_data]   Package punkt_tab is already up-to-date!\n"
          ]
        }
      ],
      "source": [
        "import nltk\n",
        "import string\n",
        "nltk.download('punkt')\n",
        "nltk.download('punkt_tab')\n",
        "from nltk.tokenize import word_tokenize\n",
        "\n",
        "def is_word(token):\n",
        "    return token.isalpha()\n",
        "\n",
        "def is_punctuation(token):\n",
        "    return all(char in string.punctuation for char in token)\n",
        "\n",
        "def smart_join(tokens):\n",
        "    result = ''\n",
        "    prev_is_word = False\n",
        "    for token in tokens:\n",
        "        if token in string.punctuation or token in ['»', '«', '–', '—', '…']:\n",
        "          result += token\n",
        "          result += ' '\n",
        "          prev_is_word = False\n",
        "        else:\n",
        "          if result and prev_is_word:\n",
        "              result += ' '\n",
        "          result += token\n",
        "          prev_is_word = True\n",
        "    return result\n",
        "\n",
        "def translate(sentence):\n",
        "    \"\"\"\n",
        "    :args:\n",
        "        sentence - sentence in Ukrainian (str)\n",
        "    :returns:\n",
        "        translation - sentence in Russian (str)\n",
        "\n",
        "    * find ukrainian embedding for each word in sentence\n",
        "    * transform ukrainian embedding vector\n",
        "    * find nearest russian word and replace\n",
        "    \"\"\"\n",
        "    tokens = word_tokenize(sentence)\n",
        "    translated_tokens = []\n",
        "    for token in tokens:\n",
        "        if is_word(token):\n",
        "            token_lower = token.lower()\n",
        "            if token_lower not in uk_emb:\n",
        "                translated_tokens.append(token)\n",
        "                continue\n",
        "            uk_emb_word = uk_emb[token_lower]\n",
        "            ru_emb_word = np.dot(uk_emb_word, W)\n",
        "            nearest_word = ru_emb.most_similar([ru_emb_word], topn=1)[0][0]\n",
        "            if token[0].isupper():\n",
        "                nearest_word = nearest_word.capitalize()\n",
        "            translated_tokens.append(nearest_word)\n",
        "        else:\n",
        "            translated_tokens.append(token)\n",
        "    return \" \".join(translated_tokens)"
      ]
    },
    {
      "cell_type": "code",
      "execution_count": 61,
      "metadata": {
        "id": "5mn2s_SFh6Vj"
      },
      "outputs": [],
      "source": [
        "assert translate(\".\") == \".\"\n",
        "assert translate(\"1 , 3\") == \"1 , 3\"\n",
        "assert translate(\"кіт зловив мишу\") == \"кот поймал мышку\""
      ]
    },
    {
      "cell_type": "code",
      "execution_count": 57,
      "metadata": {
        "id": "Z3fn-ZQAh6Vj",
        "colab": {
          "base_uri": "https://localhost:8080/"
        },
        "outputId": "b0aa759a-50d8-4dca-da33-ba14f8a9d057"
      },
      "outputs": [
        {
          "output_type": "stream",
          "name": "stdout",
          "text": [
            "src: лисичка - сестричка і вовк - панібрат\n",
            "dst: лисичка- сестричка и волк- панібрат\n",
            "\n",
            "src: як була собі лисичка та зробила хатку, та й живе. а це приходять холоди. от лисичка замерзла та й побігла в село вогню добувать, щоб витопити. прибігає до одної баби та й каже:\n",
            "dst: как была себе лисичка и сделала избушку, и и живет. а оно приходят морозы. из лисичка замерзшая и и побежала во селение огня добувать, чтобы витопити. прибегает к одной бабы и и говорит: \n",
            "\n",
            "src: — здорові були, бабусю! з неділею... позичте мені огню, я вам одслужу.\n",
            "dst: — здоровые были, бабушку! со воскресеньем ... позичте мне огня, мной тебе одслужу. \n",
            "\n",
            "src: — добре, — каже, — лисичко - сестричко. сідай погрійся трохи, поки я пиріжечки повибираю з печі!\n",
            "dst: — хорошо, — говорит, — лисичко- сестричка. садись погрійся немного, пока мной пирожки повибираю со печи! \n",
            "\n",
            "src: а баба макові пиріжки пекла. от баба вибирає пиріжки та на столі кладе, щоб прохололи; а лисичка підгляділа та за пиріг, та з хати... виїла мачок із середини, а туди напхала сміттячка, стулила та й біжить.\n",
            "dst: а бабка маковые пирожки ада. из бабка выбирает пирожки и по столе кладет, чтобы прохололи; а лисичка підгляділа и за пирог, и со хаты ... виїла мачок со середины, а туда напхала сміттячка, стулила и и бежит. \n",
            "\n",
            "src: от біжить, а хлопці товар женуть до води.\n",
            "dst: из бежит, а парни товар гонят к воды. \n",
            "\n",
            "src: — здорові були, хлопці!\n",
            "dst: — здоровые были, парни! \n",
            "\n",
            "src: — здорова, лисичко - сестричко!\n",
            "dst: — здоровая, лисичко- сестричка! \n",
            "\n",
            "src: — проміняйте мені бичка - третячка на маковий пиріжок!\n",
            "dst: — проміняйте мне бычка- третячка по маковый пирожок! \n",
            "\n",
            "src: — добре, — кажуть.\n",
            "dst: — хорошо, — дескать. \n",
            "\n",
            "src: — тільки, — каже, — тепер не їжте, а як я вибіжу з села, то тоді.\n",
            "dst: — только, — говорит, — теперь не ешьте, а как мной вибіжу со деревни, то тогда. \n",
            "\n",
            "src: от помінялись. лисичка за бичка — та в ліс. а хлопці до пиріжка — а там сміттянко.\n",
            "dst: из поменяются. лисичка за бычка— и во лес. а парни к пирожка— а там сміттянко. \n",
            "\n",
            "src: от прибігла лисичка до своєї хатки, вирубала дерево, зробила санки, запрягла бичка — іде. аж біжить вовк:\n",
            "dst: из прибежала лисичка к своего хатки, вирубала дерево, сделала санки, запрягла бычка— идет. аж бежит волк: \n",
            "\n",
            "src: — здорова, лисичко - сестричко!\n",
            "dst: — здоровая, лисичко- сестричка! \n",
            "\n",
            "src: — здоров, вовчику - братику!\n",
            "dst: — здоровье, вовчику- братику! \n",
            "\n",
            "src: — де ти взяла бичка - третячка і санки?\n",
            "dst: — куда ты взяла бычка- третячка и санки? \n",
            "\n",
            "src: — зробила собі!\n",
            "dst: — сделала себе! \n",
            "\n",
            "src: — підвези ж, — каже, — мене, лисичко - сестричко!\n",
            "dst: — підвези же, — говорит, — меня, лисичко- сестричка! \n",
            "\n",
            "src: — е, куди я тебе візьму? ти мені й санки поламаєш!\n",
            "dst: — ьн, куда мной тебя возьму? ты мне и санки поламаєш! \n",
            "\n",
            "src: — ні, — каже, — я тільки одну ніжку положу.\n",
            "dst: — ни, — говорит, — мной только одну ножку положу. \n",
            "\n",
            "src: — ну, клади!\n",
            "dst: — ну, дощечки! \n",
            "\n",
            "src: от од’їхали трохи, вовк і каже:\n",
            "dst: из от ’ ехали немного, волк и говорит: \n",
            "\n",
            "src: — положу я, лисичко - сестричко, й другу ніжку!\n",
            "dst: — положу мной, лисичко- сестричка, и вторую ножку! \n",
            "\n",
            "src: — е, вовчику - братику, ти мені й санки поламаєш!\n",
            "dst: — ьн, вовчику- братику, ты мне и санки поламаєш! \n",
            "\n",
            "src: — ні, — каже, — не поламаю!\n",
            "dst: — ни, — говорит, — не поламаю! \n",
            "\n",
            "src: — ну, клади!\n",
            "dst: — ну, дощечки! \n",
            "\n",
            "src: вовк і положив. ідуть, їдуть, коли це щось — трісь.\n",
            "dst: волк и положил. идут, едут, когда оно что-то— трісь. \n",
            "\n",
            "src: — е, вовчику - братику, ти мені вже й санки ламаєш!\n",
            "dst: — ьн, вовчику- братику, ты мне уже и санки ламаєш! \n",
            "\n",
            "src: — ні лисичко - сестричко, то я орішок розкусив.\n",
            "dst: — ни лисичко- сестричка, то мной орішок розкусив. \n",
            "\n",
            "src: — ну, гляди!\n",
            "dst: — ну, девки! \n",
            "\n",
            "src: от їдуть...\n",
            "dst: из едут ...\n",
            "\n",
            "src: — положу я, лисичко - сестричко, й третю ніжку! — каже вовк.\n",
            "dst: — положу мной, лисичко- сестричка, и третью ножку! — говорит волк. \n",
            "\n",
            "src: — куди ти положиш? ти мені санки поламаєш! чим я тоді дровець привезу?\n",
            "dst: — куда ты положиш? ты мне санки поламаєш! Чем мной тогда дровець привезу? \n",
            "\n",
            "src: — ні, — каже, — не поламаю.\n",
            "dst: — ни, — говорит, — не поламаю. \n",
            "\n",
            "src: — ну, клади.\n",
            "dst: — ну, дощечки. \n",
            "\n",
            "src: вовк положив і третю ногу. коли це — трісь!\n",
            "dst: волк положил и третью ногу. когда оно— трісь! \n",
            "\n",
            "src: — ой лихо! — каже лисичка. — йди собі геть, вовчику, — ти мені зовсім санки поламаєш.\n",
            "dst: — ой горе! — говорит лисичка. — иди себе прочь, вовчику, — ты мне совсем санки поламаєш. \n",
            "\n",
            "src: — ні, то я орішок розкусив!\n",
            "dst: — ни, то мной орішок розкусив! \n",
            "\n",
            "src: — дай же й мені!\n",
            "dst: — дай то и мне! \n",
            "\n",
            "src: — нема, — каже, — останній!\n",
            "dst: — нету, — говорит, — последний! \n",
            "\n",
            "src: їдуть собі та й їдуть; вовчик і каже:\n",
            "dst: едут себе и и едут; вовчик и говорит: \n",
            "\n",
            "src: — сяду я зовсім, лисичко!\n",
            "dst: — сяду мной совсем, лисичко! \n",
            "\n",
            "src: — куди ти сядеш, вовчику - братику? і санки розламаєш!\n",
            "dst: — куда ты сяду, вовчику- братику? и санки розламаєш! \n",
            "\n",
            "src: — я помаленьку, — каже.\n",
            "dst: — мной потихоньку, — говорит. \n",
            "\n",
            "src: — ну, гляди!\n",
            "dst: — ну, девки! \n",
            "\n",
            "src: от вовчик тільки що сів, а санки так і розпались... лисичка тоді давай його лаять! лаяла - лаяла та й каже:\n",
            "dst: из вовчик только что уселся, а санки так и распались ... лисичка тогда давай его лаять! ругала- ругала и и говорит: \n",
            "\n",
            "src: — піди ж, сякий - такий сину, дровець нарубай і на санки вирубай, і приволочи!\n",
            "dst: — пойди же, сякий- такой сыну, дровець нарубай и по санки вирубай, и приволочи! \n",
            "\n",
            "src: — як же я, — каже вовчик, — вирубаю, коли я не знаю, якого дерева?\n",
            "dst: — как то мной, — говорит вовчик, — вирубаю, когда мной не знаю, которого дерева? \n",
            "\n",
            "src: — е, — сякий - такий сину! як санчата ламать, так і знав, а дровець вирубать, то й ні!\n",
            "dst: — ьн, — сякий- такой сыну! как санки ламать, так и знал, а дровець вирубать, то и ни! \n",
            "\n",
            "src: коришувала його, коришувала...\n",
            "dst: коришувала его, коришувала ...\n",
            "\n",
            "src: — як увійдеш, — каже, — в ліс, то кажи: « рубайся, дерево, й пряме, й криве! рубайся, дерево, й пряме, й криве! »\n",
            "dst: — как увійдеш, — говорит, — во лес, то говори: « рубайся, дерево, и прямое, и кривое! рубайся, дерево, и прямое, и кривое! » \n",
            "\n",
            "src: вовк і пішов.\n",
            "dst: волк и пошел. \n",
            "\n",
            "src: от приходить в ліс та й каже:\n",
            "dst: из приходит во лес и и говорит: \n",
            "\n",
            "src: — рубайся, дерево, криве й криве!\n",
            "dst: — рубайся, дерево, кривое и кривое! \n",
            "\n",
            "src: дерево й нарубалось. таке корячкувате, що й на палицю не вибереш — не то на полозок! приносить вовчик до лисички те дерево. вона як подивилась, давай його знов батькувати.\n",
            "dst: дерево и нарубалось. такое корячкувате, что и по палку не выберешь— не то по полозок! приносит вовчик к лисички что дерево. она как посмотрела, давай его снова батькувати. \n",
            "\n",
            "src: — ти, — каже, — сякий - такий сину, не так казав, як я тобі веліла!\n",
            "dst: — ты, — говорит, — сякий- такой сыну, не так говорил, как мной тебе велела! \n",
            "\n",
            "src: — ні, лисичко - сестричко, я, — каже, — стояв та все казав: « рубайся, дерево, криве й криве! »\n",
            "dst: — ни, лисичко- сестричка, мной, — говорит, — стоял и всё говорил: « рубайся, дерево, кривое и кривое! » \n",
            "\n",
            "src: — е, бісів сину, й того недотепний! ну, сиди ж ти тут, — я сама піду нарубаю.\n",
            "dst: — ьн, бесов сыну, и того недотепний! ну, сиди же ты здесь, — мной сама пойду нарубаю. \n",
            "\n",
            "src: та й пішла.\n",
            "dst: и и пошла. \n",
            "\n",
            "src: от сидить вовк сам собі — так їсти хочеться! він думав - думав: « давай, — каже, — з’їм бичка та й утечу! » от взяв проїв дірку у бичка, із середини все виїв, а туди горобців напустив і соломою заткнув, а сам — драла... приходить лисичка, зробила санчата, сіла...\n",
            "dst: из сидит волк сам себе— так кушать хочется! он думал- думал: « давай, — говорит, — со ’ им бычка и и побег! » из взял проїв дыру во бычка, со середины всё виїв, а туда воробьёв напустил и соломой заткнул, а сам— деру ... приходит лисичка, сделала санки, присела ...\n",
            "\n",
            "src: — гей, бичок - третячок!\n",
            "dst: — гей, бычок- третячок! \n",
            "\n",
            "src: аж бичок не везе. вона його батогом. як ударила, а віхоть соломи й випав; а горобці — хррр!\n",
            "dst: аж бычок не увозит. она его хлыстом. как ударила, а віхоть соломы и выпал; а воробьи— хррр! \n",
            "\n",
            "src: — а, сякий - такий вовчик! постій же, — каже, — я тобі згадаю!\n",
            "dst: — а, сякий- такой вовчик! постой то, — говорит, — мной тебе вспомню! \n",
            "\n",
            "src: та й пішла...\n",
            "dst: и и пошла ...\n",
            "\n",
            "src: лягла на шляху та й лежить. ідуть чумаки з рибою; вона притаїлась, мов нежива. чумаки дивляться — аж лисиця:\n",
            "dst: легла по пути и и лежит. идут казаки со рыбой; она притаїлась, языки неживая. казаки смотрят— аж лисица: \n",
            "\n",
            "src: — візьмім, — кажуть, — бра, та продамо — буде за що хоч погрітися!\n",
            "dst: — візьмім, — дескать, — бра, и продадим— будет за что хоть погреться! \n",
            "\n",
            "src: скинули її на останній віз та й поїхали. ідуть та й їдуть. а лисичка - сестричка бачить, що вони не дивляться, та все кида по рибці на дорогу, все кида... от як накидала вже багато, тоді нишком і сама злізла. чумаки ж поїхали собі далі, а вона позбирала рибку, сіла та й їсть.\n",
            "dst: сбросили ей по последний визы и и поехали. идут и и едут. а лисичка- сестричка видит, что они не смотрят, и всё кида по рыбки по дорогу, всё кида ... из как навязала уже много, тогда втихаря и сама слезла. казаки же поехали себе дальше, а она позбирала рыбку, присела и и ест. \n",
            "\n",
            "src: коли це біжить вовчик:\n",
            "dst: когда оно бежит вовчик: \n",
            "\n",
            "src: — здорова була, лисичко - сестричко!\n",
            "dst: — здоровая была, лисичко- сестричка! \n",
            "\n",
            "src: — здоров, вовчику - братику!\n",
            "dst: — здоровье, вовчику- братику! \n",
            "\n",
            "src: — що ти робиш, лисичко - сестричко?\n",
            "dst: — что ты делаешь, лисичко- сестричка? \n",
            "\n",
            "src: — рибу, — каже, — їм.\n",
            "dst: — рыбу, — говорит, — им. \n",
            "\n",
            "src: — дай же й мені!\n",
            "dst: — дай то и мне! \n",
            "\n",
            "src: — піди собі налови.\n",
            "dst: — пойди себе налови. \n",
            "\n",
            "src: — так як же я наловлю, коли я не вмію?\n",
            "dst: — так как то мной наловлю, когда мной не умею? \n",
            "\n",
            "src: — ну, як знаєш, а я не дам і кісточки!\n",
            "dst: — ну, как знаешь, а мной не дам и косточки! \n",
            "\n",
            "src: — так хоч навчи мене, як наловить.\n",
            "dst: — так хоть научить меня, как наловить. \n",
            "\n",
            "src: а лисичка й дума: « постій же! ти мого бичка - третячка з’їв — я тепер тобі оддячу! »\n",
            "dst: а лисичка и дума: « постой то! ты моего бычка- третячка со ’ ел— мной теперь тебе оддячу! » \n",
            "\n",
            "src: — а так, — каже, — піди до ополонки, устроми в ополонку хвіст та потихеньку води ним і приказуй: « ловись, рибко, мала й велика! ловись, рибко, мала й велика! » то вона й наловиться.\n",
            "dst: — а так, — говорит, — пойди к проруби, устроми во прорубь хвост и потихоньку воды ним и приказуй: « ловись, рыбка, имела и большая! ловись, рыбка, имела и большая! » то она и наловиться. \n",
            "\n",
            "src: — ну, спасибі за науку! — каже вовчик.\n",
            "dst: — ну, спасибо за науку! — говорит вовчик. \n",
            "\n",
            "src: от прибігає вовчик до ополонки, устромив в ополонку хвіст:\n",
            "dst: из прибегает вовчик к проруби, устромив во прорубь хвост: \n",
            "\n",
            "src: — ловись, — каже, — рибко, мала й велика!\n",
            "dst: — ловись, — говорит, — рыбка, имела и большая! \n",
            "\n",
            "src: а лисичка з очерету:\n",
            "dst: а лисичка со камыша: \n",
            "\n",
            "src: — мерзни, мерзни, вовчий хвіст!\n",
            "dst: — мерзни, мерзни, волчий хвост! \n",
            "\n",
            "src: а мороз надворі такий, що аж шкварчить! вовчик хвостиком усе водить та:\n",
            "dst: а мороз дворе такой, что аж шкварчить! вовчик хвостиком всё водит и: \n",
            "\n",
            "src: — ловись, рибко, мала й велика!\n",
            "dst: — ловись, рыбка, имела и большая! \n",
            "\n",
            "src: а лисичка:\n",
            "dst: а лисичка: \n",
            "\n",
            "src: — мерзни, мерзни, вовчий хвіст!\n",
            "dst: — мерзни, мерзни, волчий хвост! \n",
            "\n",
            "src: поки ловив вовчик рибу, поки хвіст так і прикипів в ополонці! тоді лисичка в село:\n",
            "dst: пока ловил вовчик рыбу, пока хвост так и пугаясь во проруби! тогда лисичка во селение: \n",
            "\n",
            "src: — ідіть, люди, вовка бить!\n",
            "dst: — иди, люди, волка мочь! \n",
            "\n",
            "src: люди як вискочать — з кочергами, з рогачами, із сокирами: вбили того вовка і пропав бідний! а лисичка й досі живе у своїй хатці.\n",
            "dst: люди как вискочать— со кочергами, со рогачами, со топорами: убили того волка и пропал бедный! а лисичка и сих живет во своей хате. \n",
            "\n"
          ]
        }
      ],
      "source": [
        "for sentence in uk_sentences:\n",
        "    print(\"src: {}\\ndst: {}\\n\".format(sentence, translate(sentence)))"
      ]
    },
    {
      "cell_type": "markdown",
      "metadata": {
        "id": "TMKSZoXNh6Vj"
      },
      "source": [
        "Not so bad, right? We can easily improve translation using language model and not one but several nearest neighbours in shared embedding space. But next time."
      ]
    },
    {
      "cell_type": "markdown",
      "metadata": {
        "id": "niisXjHxh6Vj"
      },
      "source": [
        "## Would you like to learn more?\n",
        "\n",
        "### Articles:\n",
        "* [Exploiting Similarities among Languages for Machine Translation](https://arxiv.org/pdf/1309.4168)  - entry point for multilingual embedding studies by Tomas Mikolov (the author of W2V)\n",
        "* [Offline bilingual word vectors, orthogonal transformations and the inverted softmax](https://arxiv.org/pdf/1702.03859) - orthogonal transform for unsupervised MT\n",
        "* [Word Translation Without Parallel Data](https://arxiv.org/pdf/1710.04087)\n",
        "* [Loss in Translation: Learning Bilingual Word Mapping with a Retrieval Criterion](https://arxiv.org/pdf/1804.07745)\n",
        "* [Unsupervised Alignment of Embeddings with Wasserstein Procrustes](https://arxiv.org/pdf/1805.11222)\n",
        "\n",
        "### Repos (with ready-to-use multilingual embeddings):\n",
        "* https://github.com/facebookresearch/MUSE\n",
        "\n",
        "* https://github.com/Babylonpartners/fastText_multilingual -"
      ]
    }
  ],
  "metadata": {
    "kernelspec": {
      "display_name": "Python 3",
      "language": "python",
      "name": "python3"
    },
    "language_info": {
      "codemirror_mode": {
        "name": "ipython",
        "version": 3
      },
      "file_extension": ".py",
      "mimetype": "text/x-python",
      "name": "python",
      "nbconvert_exporter": "python",
      "pygments_lexer": "ipython3",
      "version": "3.4.3"
    },
    "colab": {
      "provenance": [],
      "include_colab_link": true
    }
  },
  "nbformat": 4,
  "nbformat_minor": 0
}